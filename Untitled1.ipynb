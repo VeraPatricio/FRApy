{
 "cells": [
  {
   "cell_type": "code",
   "execution_count": 1,
   "metadata": {},
   "outputs": [],
   "source": [
    "from abc import ABCMeta, abstractmethod\n",
    "\n",
    "class Vehicle(object):\n",
    "    \"\"\"A vehicle for sale by Jeffco Car Dealership.\n",
    "\n",
    "\n",
    "    Attributes:\n",
    "        wheels: An integer representing the number of wheels the vehicle has.\n",
    "        miles: The integral number of miles driven on the vehicle.\n",
    "        make: The make of the vehicle as a string.\n",
    "        model: The model of the vehicle as a string.\n",
    "        year: The integral year the vehicle was built.\n",
    "        sold_on: The date the vehicle was sold.\n",
    "    \"\"\"\n",
    "\n",
    "    __metaclass__ = ABCMeta\n",
    "\n",
    "    base_sale_price = 0\n",
    "    wheels = 0\n",
    "\n",
    "    def __init__(self, miles, make, model, year, sold_on):\n",
    "        self.miles = miles\n",
    "        self.make = make\n",
    "        self.model = model\n",
    "        self.year = year\n",
    "        self.sold_on = sold_on\n",
    "\n",
    "    def sale_price(self):\n",
    "        \"\"\"Return the sale price for this vehicle as a float amount.\"\"\"\n",
    "        if self.sold_on is not None:\n",
    "            return 0.0  # Already sold\n",
    "        return 5000.0 * self.wheels\n",
    "\n",
    "    def purchase_price(self):\n",
    "        \"\"\"Return the price for which we would pay to purchase the vehicle.\"\"\"\n",
    "        if self.sold_on is None:\n",
    "            return 0.0  # Not yet sold\n",
    "        return self.base_sale_price - (.10 * self.miles)\n",
    "\n",
    "    '''@abstractmethod\n",
    "    def vehicle_type(self):\n",
    "        \"\"\"\"Return a string representing the type of vehicle this is.\"\"\"\n",
    "        pass'''"
   ]
  },
  {
   "cell_type": "code",
   "execution_count": 2,
   "metadata": {},
   "outputs": [],
   "source": [
    "class Car(Vehicle):\n",
    "    \"\"\"A car for sale by Jeffco Car Dealership.\"\"\"\n",
    "\n",
    "    base_sale_price = 8000\n",
    "    wheels = 4\n",
    "\n",
    "    def vehicle_type(self):\n",
    "        \"\"\"\"Return a string representing the type of vehicle this is.\"\"\"\n",
    "        return 'car'\n",
    "\n",
    "class Truck(Vehicle):\n",
    "    \"\"\"A truck for sale by Jeffco Car Dealership.\"\"\"\n",
    "\n",
    "    base_sale_price = 10000\n",
    "    wheels = 4\n",
    "\n",
    "    def vehicle_type(self):\n",
    "        \"\"\"\"Return a string representing the type of vehicle this is.\"\"\"\n",
    "        return 'truck'"
   ]
  },
  {
   "cell_type": "code",
   "execution_count": 3,
   "metadata": {},
   "outputs": [],
   "source": [
    "little_car = Car(4, 0, 'Honda', 'Accord', 2014)"
   ]
  },
  {
   "cell_type": "code",
   "execution_count": 5,
   "metadata": {},
   "outputs": [
    {
     "data": {
      "text/plain": [
       "4"
      ]
     },
     "execution_count": 5,
     "metadata": {},
     "output_type": "execute_result"
    }
   ],
   "source": [
    "little_car.miles"
   ]
  },
  {
   "cell_type": "code",
   "execution_count": 34,
   "metadata": {},
   "outputs": [],
   "source": [
    "class Model(object):\n",
    "    \n",
    "    __metaclass__ = ABCMeta\n",
    "\n",
    "    def __init__(self,zlens,dplx,dply,cx,cy,q,pa):\n",
    "        self.zlens = zlens\n",
    "        self.dplx = dplx\n",
    "        self.dply = dply\n",
    "        self.cx = cx\n",
    "        self.cy = cy\n",
    "        self.q  = q\n",
    "        self.pa = pa\n",
    "        \n",
    "    def regrid_displacement_maps_to_data(Observations):\n",
    "        return 4820\n",
    "\n",
    "    @abstractmethod\n",
    "    def model_name(self):\n",
    "        \"\"\"\"Return a string representing the type of vehicle this is.\"\"\"\n",
    "        pass\n",
    "    \n",
    "class Metallicity_Gradient(Model):\n",
    "\n",
    "    def __init__(self,zlens,dplx,dply,cx=0,cy=0,q=1,pa=0,z_grad = 1,z_0 = 0):\n",
    "        Model.__init__(self, zlens,dplx,dply,cx,cy,q,pa)\n",
    "        self.z_grad = z_grad\n",
    "        self.z_0 = z_0\n",
    "\n",
    "    def model_name():\n",
    "        return 'metallicity_gradient'\n",
    "    \n",
    "    '''def make_gradient():\n",
    "        \n",
    "    def convolve_model(seeing):\n",
    "    \n",
    "    def bin_model(binning):\n",
    "        \n",
    "    def fit(obs,model,fit_extra_param):\n",
    "    '''\n",
    "    \n",
    "        "
   ]
  },
  {
   "cell_type": "code",
   "execution_count": 35,
   "metadata": {},
   "outputs": [],
   "source": [
    "grad = Metallicity_Gradient(1,2,3)"
   ]
  },
  {
   "cell_type": "code",
   "execution_count": 37,
   "metadata": {},
   "outputs": [
    {
     "data": {
      "text/plain": [
       "4820"
      ]
     },
     "execution_count": 37,
     "metadata": {},
     "output_type": "execute_result"
    }
   ],
   "source": [
    "grad.regrid_displacement_maps_to_data()"
   ]
  },
  {
   "cell_type": "code",
   "execution_count": 29,
   "metadata": {},
   "outputs": [
    {
     "data": {
      "text/plain": [
       "1"
      ]
     },
     "execution_count": 29,
     "metadata": {},
     "output_type": "execute_result"
    }
   ],
   "source": [
    "grad.z_0"
   ]
  }
 ],
 "metadata": {
  "kernelspec": {
   "display_name": "Python 2",
   "language": "python",
   "name": "python2"
  },
  "language_info": {
   "codemirror_mode": {
    "name": "ipython",
    "version": 2
   },
   "file_extension": ".py",
   "mimetype": "text/x-python",
   "name": "python",
   "nbconvert_exporter": "python",
   "pygments_lexer": "ipython2",
   "version": "2.7.12"
  }
 },
 "nbformat": 4,
 "nbformat_minor": 2
}
